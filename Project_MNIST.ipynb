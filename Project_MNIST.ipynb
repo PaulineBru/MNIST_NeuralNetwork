{
 "cells": [
  {
   "cell_type": "code",
   "execution_count": 1,
   "metadata": {},
   "outputs": [
    {
     "name": "stderr",
     "output_type": "stream",
     "text": [
      "Using TensorFlow backend.\n"
     ]
    }
   ],
   "source": [
    "from keras.datasets import mnist\n",
    "from keras.models import Sequential\n",
    "from keras.layers import Dense, Activation, Flatten\n",
    "import numpy as np\n",
    "import os\n",
    "import keras\n",
    "from sklearn.decomposition import PCA\n",
    "from matplotlib import pyplot as plt\n",
    "import pandas as pd\n",
    "%matplotlib inline"
   ]
  },
  {
   "cell_type": "markdown",
   "metadata": {},
   "source": [
    "### Prevent : \"... your kernel died\""
   ]
  },
  {
   "cell_type": "code",
   "execution_count": null,
   "metadata": {},
   "outputs": [],
   "source": [
    "os.environ['KMP_DUPLICATE_LIB_OK']='True'\n"
   ]
  },
  {
   "cell_type": "markdown",
   "metadata": {},
   "source": [
    "## Loading  MNIST dataset and splitting into training and testing data set"
   ]
  },
  {
   "cell_type": "code",
   "execution_count": null,
   "metadata": {},
   "outputs": [],
   "source": [
    "(xtrain, ytrains), (xtest, ytests) = mnist.load_data()\n"
   ]
  },
  {
   "cell_type": "code",
   "execution_count": 2,
   "metadata": {},
   "outputs": [
    {
     "data": {
      "image/png": "[encoded data removed]",
      "text/plain": [
       "<Figure size 432x288 with 25 Axes>"
      ]
     },
     "metadata": {
      "needs_background": "light"
     },
     "output_type": "display_data"
    }
   ],
   "source": [
    "\n",
    "for i in range(25):\n",
    "    plt.subplot(5, 5, i+1)\n",
    "    plt.imshow(xtrain[i], cmap=plt.cm.Greys)\n",
    "    plt.axis('off')"
   ]
  },
  {
   "cell_type": "code",
   "execution_count": 3,
   "metadata": {},
   "outputs": [
    {
     "data": {
      "text/plain": [
       "(60000, 28, 28)"
      ]
     },
     "execution_count": 3,
     "metadata": {},
     "output_type": "execute_result"
    }
   ],
   "source": [
    "xtrain.shape"
   ]
  },
  {
   "cell_type": "markdown",
   "metadata": {},
   "source": [
    "## Reshape the y-labels into dummy variables"
   ]
  },
  {
   "cell_type": "code",
   "execution_count": 32,
   "metadata": {},
   "outputs": [
    {
     "data": {
      "text/plain": [
       "(10000, 10)"
      ]
     },
     "execution_count": 32,
     "metadata": {},
     "output_type": "execute_result"
    }
   ],
   "source": [
    "ytrain= pd.get_dummies(ytrains)\n",
    "ytest= pd.get_dummies(ytests)\n"
   ]
  },
  {
   "cell_type": "markdown",
   "metadata": {},
   "source": [
    "## Checking for  some training set data in detail"
   ]
  },
  {
   "cell_type": "code",
   "execution_count": 5,
   "metadata": {},
   "outputs": [
    {
     "data": {
      "text/plain": [
       "<matplotlib.image.AxesImage at 0xb38b01080>"
      ]
     },
     "execution_count": 5,
     "metadata": {},
     "output_type": "execute_result"
    },
    {
     "data": {
      "image/png": "[encoded data removed]",
      "text/plain": [
       "<Figure size 432x288 with 1 Axes>"
      ]
     },
     "metadata": {
      "needs_background": "light"
     },
     "output_type": "display_data"
    }
   ],
   "source": [
    "plt.imshow(xtrain[59999], cmap=plt.cm.Greys)"
   ]
  },
  {
   "cell_type": "markdown",
   "metadata": {},
   "source": [
    "# Arificial Neural Network"
   ]
  },
  {
   "cell_type": "code",
   "execution_count": 6,
   "metadata": {},
   "outputs": [
    {
     "name": "stdout",
     "output_type": "stream",
     "text": [
      "Epoch 1/150\n",
      "60000/60000 [==============================] - 6s 102us/step - loss: 5.8399 - acc: 0.6270\n",
      "Epoch 2/150\n",
      "60000/60000 [==============================] - 5s 84us/step - loss: 3.3112 - acc: 0.7861\n",
      "Epoch 3/150\n",
      "60000/60000 [==============================] - 5s 84us/step - loss: 2.6922 - acc: 0.8260\n",
      "Epoch 4/150\n",
      "60000/60000 [==============================] - 5s 85us/step - loss: 2.5075 - acc: 0.8389\n",
      "Epoch 5/150\n",
      "60000/60000 [==============================] - 5s 84us/step - loss: 2.3981 - acc: 0.8458\n",
      "Epoch 6/150\n",
      "60000/60000 [==============================] - 5s 86us/step - loss: 2.3254 - acc: 0.8506\n",
      "Epoch 7/150\n",
      "60000/60000 [==============================] - 5s 86us/step - loss: 2.2715 - acc: 0.8545\n",
      "Epoch 8/150\n",
      "60000/60000 [==============================] - 5s 84us/step - loss: 2.2390 - acc: 0.8569\n",
      "Epoch 9/150\n",
      "60000/60000 [==============================] - 6s 99us/step - loss: 2.2037 - acc: 0.8589\n",
      "Epoch 10/150\n",
      "60000/60000 [==============================] - 6s 99us/step - loss: 2.1737 - acc: 0.8609\n",
      "Epoch 11/150\n",
      "60000/60000 [==============================] - 6s 93us/step - loss: 2.1513 - acc: 0.8628\n",
      "Epoch 12/150\n",
      "60000/60000 [==============================] - 5s 83us/step - loss: 2.1450 - acc: 0.8630\n",
      "Epoch 13/150\n",
      "60000/60000 [==============================] - 6s 99us/step - loss: 2.1293 - acc: 0.8644\n",
      "Epoch 14/150\n",
      "60000/60000 [==============================] - 6s 103us/step - loss: 2.1070 - acc: 0.8657\n",
      "Epoch 15/150\n",
      "60000/60000 [==============================] - 5s 85us/step - loss: 2.1036 - acc: 0.8659\n",
      "Epoch 16/150\n",
      "60000/60000 [==============================] - 5s 83us/step - loss: 2.0857 - acc: 0.8674\n",
      "Epoch 17/150\n",
      "60000/60000 [==============================] - 5s 84us/step - loss: 2.0744 - acc: 0.8680\n",
      "Epoch 18/150\n",
      "60000/60000 [==============================] - 5s 84us/step - loss: 2.0737 - acc: 0.8680\n",
      "Epoch 19/150\n",
      "60000/60000 [==============================] - 6s 93us/step - loss: 2.0627 - acc: 0.8695\n",
      "Epoch 20/150\n",
      "60000/60000 [==============================] - 5s 86us/step - loss: 2.0426 - acc: 0.8702\n",
      "Epoch 21/150\n",
      "60000/60000 [==============================] - 5s 89us/step - loss: 2.0331 - acc: 0.8710\n",
      "Epoch 22/150\n",
      "60000/60000 [==============================] - 5s 77us/step - loss: 2.0314 - acc: 0.8710\n",
      "Epoch 23/150\n",
      "60000/60000 [==============================] - 5s 78us/step - loss: 2.0205 - acc: 0.8718\n",
      "Epoch 24/150\n",
      "60000/60000 [==============================] - 5s 79us/step - loss: 2.0080 - acc: 0.8726\n",
      "Epoch 25/150\n",
      "60000/60000 [==============================] - 6s 93us/step - loss: 2.0168 - acc: 0.8722\n",
      "Epoch 26/150\n",
      "60000/60000 [==============================] - 6s 101us/step - loss: 2.0028 - acc: 0.8730\n",
      "Epoch 27/150\n",
      "60000/60000 [==============================] - 6s 105us/step - loss: 2.0047 - acc: 0.8730\n",
      "Epoch 28/150\n",
      "60000/60000 [==============================] - 6s 95us/step - loss: 2.0007 - acc: 0.8733\n",
      "Epoch 29/150\n",
      "60000/60000 [==============================] - 5s 79us/step - loss: 1.9959 - acc: 0.8738\n",
      "Epoch 30/150\n",
      "60000/60000 [==============================] - 5s 86us/step - loss: 1.9892 - acc: 0.8742\n",
      "Epoch 31/150\n",
      "60000/60000 [==============================] - 5s 79us/step - loss: 1.9742 - acc: 0.8750\n",
      "Epoch 32/150\n",
      "60000/60000 [==============================] - 5s 81us/step - loss: 1.9719 - acc: 0.8754\n",
      "Epoch 33/150\n",
      "60000/60000 [==============================] - 5s 79us/step - loss: 1.9645 - acc: 0.8759\n",
      "Epoch 34/150\n",
      "60000/60000 [==============================] - 6s 104us/step - loss: 1.9600 - acc: 0.8761\n",
      "Epoch 35/150\n",
      "60000/60000 [==============================] - 7s 109us/step - loss: 1.9606 - acc: 0.8760\n",
      "Epoch 36/150\n",
      "60000/60000 [==============================] - 5s 87us/step - loss: 1.9629 - acc: 0.8760\n",
      "Epoch 37/150\n",
      "60000/60000 [==============================] - 6s 94us/step - loss: 1.9612 - acc: 0.8759\n",
      "Epoch 38/150\n",
      "60000/60000 [==============================] - 6s 94us/step - loss: 1.9604 - acc: 0.8763\n",
      "Epoch 39/150\n",
      "60000/60000 [==============================] - 6s 92us/step - loss: 1.9596 - acc: 0.8762\n",
      "Epoch 40/150\n",
      "60000/60000 [==============================] - 5s 88us/step - loss: 1.9584 - acc: 0.8768\n",
      "Epoch 41/150\n",
      "60000/60000 [==============================] - 5s 88us/step - loss: 1.6440 - acc: 0.8947\n",
      "Epoch 42/150\n",
      "60000/60000 [==============================] - 5s 89us/step - loss: 0.7247 - acc: 0.9502\n",
      "Epoch 43/150\n",
      "60000/60000 [==============================] - 5s 80us/step - loss: 0.6393 - acc: 0.9559\n",
      "Epoch 44/150\n",
      "60000/60000 [==============================] - 5s 86us/step - loss: 0.5876 - acc: 0.9595\n",
      "Epoch 45/150\n",
      "60000/60000 [==============================] - 5s 89us/step - loss: 0.5782 - acc: 0.9604\n",
      "Epoch 46/150\n",
      "60000/60000 [==============================] - 5s 88us/step - loss: 0.5591 - acc: 0.9618\n",
      "Epoch 47/150\n",
      "60000/60000 [==============================] - 5s 87us/step - loss: 0.5427 - acc: 0.9630\n",
      "Epoch 48/150\n",
      "60000/60000 [==============================] - 6s 97us/step - loss: 0.5395 - acc: 0.9630\n",
      "Epoch 49/150\n",
      "60000/60000 [==============================] - 6s 97us/step - loss: 0.5320 - acc: 0.9639\n",
      "Epoch 50/150\n",
      "60000/60000 [==============================] - 5s 86us/step - loss: 0.5384 - acc: 0.9633\n",
      "Epoch 51/150\n",
      "60000/60000 [==============================] - 5s 87us/step - loss: 0.5057 - acc: 0.9656\n",
      "Epoch 52/150\n",
      "60000/60000 [==============================] - 5s 88us/step - loss: 0.5164 - acc: 0.9647\n",
      "Epoch 53/150\n",
      "60000/60000 [==============================] - 6s 96us/step - loss: 0.4916 - acc: 0.9664\n",
      "Epoch 54/150\n",
      "60000/60000 [==============================] - 5s 87us/step - loss: 0.4984 - acc: 0.9659\n",
      "Epoch 55/150\n",
      "60000/60000 [==============================] - 5s 89us/step - loss: 0.5016 - acc: 0.9658\n",
      "Epoch 56/150\n",
      "60000/60000 [==============================] - 5s 87us/step - loss: 0.4959 - acc: 0.9663\n",
      "Epoch 57/150\n",
      "60000/60000 [==============================] - 5s 87us/step - loss: 0.4887 - acc: 0.9666\n",
      "Epoch 58/150\n",
      "60000/60000 [==============================] - 5s 88us/step - loss: 0.4879 - acc: 0.9669\n",
      "Epoch 59/150\n",
      "60000/60000 [==============================] - 5s 88us/step - loss: 0.4909 - acc: 0.9666\n",
      "Epoch 60/150\n",
      "60000/60000 [==============================] - 5s 87us/step - loss: 0.4901 - acc: 0.9667\n",
      "Epoch 61/150\n",
      "60000/60000 [==============================] - 5s 89us/step - loss: 0.4858 - acc: 0.9668\n",
      "Epoch 62/150\n",
      "60000/60000 [==============================] - 5s 89us/step - loss: 0.4815 - acc: 0.9675\n",
      "Epoch 63/150\n",
      "60000/60000 [==============================] - 5s 86us/step - loss: 0.4741 - acc: 0.9677\n",
      "Epoch 64/150\n",
      "60000/60000 [==============================] - 6s 102us/step - loss: 0.4729 - acc: 0.9679\n",
      "Epoch 65/150\n",
      "60000/60000 [==============================] - 6s 93us/step - loss: 0.4635 - acc: 0.9690\n",
      "Epoch 66/150\n",
      "60000/60000 [==============================] - 5s 84us/step - loss: 0.4554 - acc: 0.9692\n",
      "Epoch 67/150\n",
      "60000/60000 [==============================] - 5s 84us/step - loss: 0.4637 - acc: 0.9685\n",
      "Epoch 68/150\n",
      "60000/60000 [==============================] - 6s 107us/step - loss: 0.4554 - acc: 0.9690\n",
      "Epoch 69/150\n",
      "60000/60000 [==============================] - 5s 90us/step - loss: 0.4667 - acc: 0.9687\n",
      "Epoch 70/150\n",
      "60000/60000 [==============================] - 5s 80us/step - loss: 0.4530 - acc: 0.9694\n",
      "Epoch 71/150\n",
      "60000/60000 [==============================] - 5s 85us/step - loss: 0.4543 - acc: 0.9695\n",
      "Epoch 72/150\n",
      "60000/60000 [==============================] - 9s 157us/step - loss: 0.4593 - acc: 0.9691\n",
      "Epoch 73/150\n",
      "60000/60000 [==============================] - 6s 93us/step - loss: 0.4585 - acc: 0.9688\n",
      "Epoch 74/150\n",
      "60000/60000 [==============================] - 6s 98us/step - loss: 0.4485 - acc: 0.9698\n",
      "Epoch 75/150\n",
      "60000/60000 [==============================] - 6s 92us/step - loss: 0.4509 - acc: 0.9698\n",
      "Epoch 76/150\n",
      "60000/60000 [==============================] - 5s 91us/step - loss: 0.4585 - acc: 0.9690\n",
      "Epoch 77/150\n",
      "60000/60000 [==============================] - 7s 118us/step - loss: 0.4507 - acc: 0.9695\n",
      "Epoch 78/150\n",
      "60000/60000 [==============================] - 5s 89us/step - loss: 0.4599 - acc: 0.9688\n",
      "Epoch 79/150\n",
      "60000/60000 [==============================] - 5s 87us/step - loss: 0.4516 - acc: 0.9696\n",
      "Epoch 80/150\n",
      "60000/60000 [==============================] - 5s 86us/step - loss: 0.4414 - acc: 0.9705\n",
      "Epoch 81/150\n"
     ]
    },
    {
     "name": "stdout",
     "output_type": "stream",
     "text": [
      "60000/60000 [==============================] - 6s 102us/step - loss: 0.4571 - acc: 0.9689\n",
      "Epoch 82/150\n",
      "60000/60000 [==============================] - 7s 119us/step - loss: 0.4388 - acc: 0.9702\n",
      "Epoch 83/150\n",
      "60000/60000 [==============================] - 6s 104us/step - loss: 0.4335 - acc: 0.9709\n",
      "Epoch 84/150\n",
      "60000/60000 [==============================] - 5s 83us/step - loss: 0.4472 - acc: 0.9700\n",
      "Epoch 85/150\n",
      "60000/60000 [==============================] - 7s 115us/step - loss: 0.4442 - acc: 0.9702\n",
      "Epoch 86/150\n",
      "60000/60000 [==============================] - 5s 91us/step - loss: 0.4428 - acc: 0.9703\n",
      "Epoch 87/150\n",
      "60000/60000 [==============================] - 5s 90us/step - loss: 0.4375 - acc: 0.9705\n",
      "Epoch 88/150\n",
      "60000/60000 [==============================] - 5s 80us/step - loss: 0.4438 - acc: 0.9701\n",
      "Epoch 89/150\n",
      "60000/60000 [==============================] - 5s 81us/step - loss: 0.4387 - acc: 0.9704\n",
      "Epoch 90/150\n",
      "60000/60000 [==============================] - 6s 99us/step - loss: 0.4346 - acc: 0.9709\n",
      "Epoch 91/150\n",
      "60000/60000 [==============================] - 5s 79us/step - loss: 0.4435 - acc: 0.9703\n",
      "Epoch 92/150\n",
      "60000/60000 [==============================] - 6s 102us/step - loss: 0.4393 - acc: 0.9705\n",
      "Epoch 93/150\n",
      "60000/60000 [==============================] - 5s 87us/step - loss: 0.4227 - acc: 0.9720\n",
      "Epoch 94/150\n",
      "60000/60000 [==============================] - 5s 84us/step - loss: 0.4181 - acc: 0.9718\n",
      "Epoch 95/150\n",
      "60000/60000 [==============================] - 5s 81us/step - loss: 0.4263 - acc: 0.9713\n",
      "Epoch 96/150\n",
      "60000/60000 [==============================] - 6s 106us/step - loss: 0.4225 - acc: 0.9716\n",
      "Epoch 97/150\n",
      "60000/60000 [==============================] - 6s 92us/step - loss: 0.4341 - acc: 0.9709\n",
      "Epoch 98/150\n",
      "60000/60000 [==============================] - 5s 84us/step - loss: 0.4340 - acc: 0.9710\n",
      "Epoch 99/150\n",
      "60000/60000 [==============================] - 5s 83us/step - loss: 0.4332 - acc: 0.9711\n",
      "Epoch 100/150\n",
      "60000/60000 [==============================] - 5s 85us/step - loss: 0.4415 - acc: 0.9704\n",
      "Epoch 101/150\n",
      "60000/60000 [==============================] - 5s 85us/step - loss: 0.4155 - acc: 0.9723\n",
      "Epoch 102/150\n",
      "60000/60000 [==============================] - 5s 85us/step - loss: 0.4204 - acc: 0.9719\n",
      "Epoch 103/150\n",
      "60000/60000 [==============================] - 5s 85us/step - loss: 0.4161 - acc: 0.9723\n",
      "Epoch 104/150\n",
      "60000/60000 [==============================] - 5s 84us/step - loss: 0.4224 - acc: 0.9718\n",
      "Epoch 105/150\n",
      "60000/60000 [==============================] - 5s 84us/step - loss: 0.4063 - acc: 0.9730\n",
      "Epoch 106/150\n",
      "60000/60000 [==============================] - 5s 86us/step - loss: 0.4192 - acc: 0.9723\n",
      "Epoch 107/150\n",
      "60000/60000 [==============================] - 5s 86us/step - loss: 0.4148 - acc: 0.9724\n",
      "Epoch 108/150\n",
      "60000/60000 [==============================] - 5s 87us/step - loss: 0.4299 - acc: 0.9715\n",
      "Epoch 109/150\n",
      "60000/60000 [==============================] - 5s 86us/step - loss: 0.4267 - acc: 0.9717\n",
      "Epoch 110/150\n",
      "60000/60000 [==============================] - 5s 87us/step - loss: 0.4036 - acc: 0.9731\n",
      "Epoch 111/150\n",
      "60000/60000 [==============================] - 5s 85us/step - loss: 0.4219 - acc: 0.9718\n",
      "Epoch 112/150\n",
      "60000/60000 [==============================] - 5s 85us/step - loss: 0.4105 - acc: 0.9726\n",
      "Epoch 113/150\n",
      "60000/60000 [==============================] - 5s 84us/step - loss: 0.4071 - acc: 0.9729\n",
      "Epoch 114/150\n",
      "60000/60000 [==============================] - 5s 85us/step - loss: 0.4173 - acc: 0.9720\n",
      "Epoch 115/150\n",
      "60000/60000 [==============================] - 5s 86us/step - loss: 0.4134 - acc: 0.9726\n",
      "Epoch 116/150\n",
      "60000/60000 [==============================] - 5s 85us/step - loss: 0.4091 - acc: 0.9727\n",
      "Epoch 117/150\n",
      "60000/60000 [==============================] - 5s 84us/step - loss: 0.4226 - acc: 0.9718\n",
      "Epoch 118/150\n",
      "60000/60000 [==============================] - 5s 86us/step - loss: 0.4067 - acc: 0.9729\n",
      "Epoch 119/150\n",
      "60000/60000 [==============================] - 5s 86us/step - loss: 0.4123 - acc: 0.9726\n",
      "Epoch 120/150\n",
      "60000/60000 [==============================] - 5s 86us/step - loss: 0.4034 - acc: 0.9735\n",
      "Epoch 121/150\n",
      "60000/60000 [==============================] - 5s 86us/step - loss: 0.4132 - acc: 0.9729\n",
      "Epoch 122/150\n",
      "60000/60000 [==============================] - 5s 87us/step - loss: 0.4029 - acc: 0.9733\n",
      "Epoch 123/150\n",
      "60000/60000 [==============================] - 5s 86us/step - loss: 0.4189 - acc: 0.9724\n",
      "Epoch 124/150\n",
      "60000/60000 [==============================] - 5s 87us/step - loss: 0.4059 - acc: 0.9734\n",
      "Epoch 125/150\n",
      "60000/60000 [==============================] - 5s 87us/step - loss: 0.4173 - acc: 0.9727\n",
      "Epoch 126/150\n",
      "60000/60000 [==============================] - 5s 87us/step - loss: 0.4283 - acc: 0.9718\n",
      "Epoch 127/150\n",
      "60000/60000 [==============================] - 5s 86us/step - loss: 0.4161 - acc: 0.9727\n",
      "Epoch 128/150\n",
      "60000/60000 [==============================] - 6s 103us/step - loss: 0.4078 - acc: 0.9732\n",
      "Epoch 129/150\n",
      "60000/60000 [==============================] - 6s 97us/step - loss: 0.4166 - acc: 0.9724\n",
      "Epoch 130/150\n",
      "60000/60000 [==============================] - 6s 92us/step - loss: 0.4157 - acc: 0.9727\n",
      "Epoch 131/150\n",
      "60000/60000 [==============================] - 6s 97us/step - loss: 0.4166 - acc: 0.9727\n",
      "Epoch 132/150\n",
      "60000/60000 [==============================] - 6s 100us/step - loss: 0.4161 - acc: 0.9724\n",
      "Epoch 133/150\n",
      "60000/60000 [==============================] - 5s 89us/step - loss: 0.4150 - acc: 0.9725\n",
      "Epoch 134/150\n",
      "60000/60000 [==============================] - 5s 90us/step - loss: 0.4150 - acc: 0.9727\n",
      "Epoch 135/150\n",
      "60000/60000 [==============================] - 6s 95us/step - loss: 0.4209 - acc: 0.9721\n",
      "Epoch 136/150\n",
      "60000/60000 [==============================] - 5s 90us/step - loss: 0.4202 - acc: 0.9723\n",
      "Epoch 137/150\n",
      "60000/60000 [==============================] - 6s 97us/step - loss: 0.4149 - acc: 0.9727\n",
      "Epoch 138/150\n",
      "60000/60000 [==============================] - 6s 96us/step - loss: 0.4074 - acc: 0.9732\n",
      "Epoch 139/150\n",
      "60000/60000 [==============================] - 5s 91us/step - loss: 0.4063 - acc: 0.9733\n",
      "Epoch 140/150\n",
      "60000/60000 [==============================] - 6s 92us/step - loss: 0.4002 - acc: 0.9736\n",
      "Epoch 141/150\n",
      "60000/60000 [==============================] - 6s 92us/step - loss: 0.4133 - acc: 0.9726\n",
      "Epoch 142/150\n",
      "60000/60000 [==============================] - 6s 92us/step - loss: 0.4178 - acc: 0.9727\n",
      "Epoch 143/150\n",
      "60000/60000 [==============================] - 6s 101us/step - loss: 0.4024 - acc: 0.9734\n",
      "Epoch 144/150\n",
      "60000/60000 [==============================] - 5s 92us/step - loss: 0.4011 - acc: 0.9738\n",
      "Epoch 145/150\n",
      "60000/60000 [==============================] - 6s 93us/step - loss: 0.4110 - acc: 0.9730\n",
      "Epoch 146/150\n",
      "60000/60000 [==============================] - 6s 93us/step - loss: 0.4098 - acc: 0.9729\n",
      "Epoch 147/150\n",
      "60000/60000 [==============================] - 6s 93us/step - loss: 0.4127 - acc: 0.9727\n",
      "Epoch 148/150\n",
      "60000/60000 [==============================] - 6s 92us/step - loss: 0.4036 - acc: 0.9733\n",
      "Epoch 149/150\n",
      "60000/60000 [==============================] - 6s 92us/step - loss: 0.3983 - acc: 0.9738\n",
      "Epoch 150/150\n",
      "60000/60000 [==============================] - 6s 96us/step - loss: 0.3975 - acc: 0.9739\n"
     ]
    },
    {
     "data": {
      "text/plain": [
       "<keras.callbacks.History at 0xb38b01358>"
      ]
     },
     "execution_count": 6,
     "metadata": {},
     "output_type": "execute_result"
    }
   ],
   "source": [
    "tboard = keras.callbacks.TensorBoard(log_dir='./output',\n",
    "                                     histogram_freq=0,\n",
    "                                     write_graph=True,\n",
    "                                     write_images=True)\n",
    "\n",
    "\n",
    "\n",
    "\n",
    "\n",
    "model = Sequential([\n",
    "    Dense(32, input_shape=(28,28)),\n",
    "    Activation('elu'),\n",
    "    Flatten(),\n",
    "    Dense(10),\n",
    "    Activation('softmax'),\n",
    "])\n",
    "\n",
    "\n",
    "\n",
    "model.compile(optimizer='rmsprop',\n",
    "              loss='categorical_crossentropy',\n",
    "              metrics=['accuracy'])\n",
    "\n",
    "xtrain.shape\n",
    "ytrain.shape\n",
    "\n",
    "model.fit(xtrain, ytrain,\n",
    "          batch_size= 128,\n",
    "          epochs=150,\n",
    "          verbose=1,\n",
    "         )"
   ]
  },
  {
   "cell_type": "markdown",
   "metadata": {},
   "source": [
    "# Evaluating Test and Training Data"
   ]
  },
  {
   "cell_type": "code",
   "execution_count": 7,
   "metadata": {},
   "outputs": [
    {
     "name": "stdout",
     "output_type": "stream",
     "text": [
      "10000/10000 [==============================] - 1s 67us/step\n",
      "60000/60000 [==============================] - 3s 46us/step\n"
     ]
    },
    {
     "data": {
      "text/plain": [
       "([0.39850181577429966, 0.9738666666348775], [0.6967085278276878, 0.9547])"
      ]
     },
     "execution_count": 7,
     "metadata": {},
     "output_type": "execute_result"
    }
   ],
   "source": [
    "score = model.evaluate(xtest, ytest, batch_size=128)\n",
    "score\n",
    "train= model.evaluate(xtrain, ytrain, batch_size=128)\n",
    "train, score\n"
   ]
  },
  {
   "cell_type": "code",
   "execution_count": 9,
   "metadata": {},
   "outputs": [
    {
     "name": "stdout",
     "output_type": "stream",
     "text": [
      "_________________________________________________________________\n",
      "Layer (type)                 Output Shape              Param #   \n",
      "=================================================================\n",
      "dense_1 (Dense)              (None, 28, 32)            928       \n",
      "_________________________________________________________________\n",
      "activation_1 (Activation)    (None, 28, 32)            0         \n",
      "_________________________________________________________________\n",
      "flatten_1 (Flatten)          (None, 896)               0         \n",
      "_________________________________________________________________\n",
      "dense_2 (Dense)              (None, 10)                8970      \n",
      "_________________________________________________________________\n",
      "activation_2 (Activation)    (None, 10)                0         \n",
      "=================================================================\n",
      "Total params: 9,898\n",
      "Trainable params: 9,898\n",
      "Non-trainable params: 0\n",
      "_________________________________________________________________\n"
     ]
    }
   ],
   "source": [
    "model.summary()"
   ]
  },
  {
   "cell_type": "markdown",
   "metadata": {},
   "source": [
    "## Which number  was wrongly predicted by the model?"
   ]
  },
  {
   "cell_type": "code",
   "execution_count": 10,
   "metadata": {},
   "outputs": [],
   "source": [
    "# What was predicted by the model?\n",
    "predicted =model.predict_classes(xtrain)"
   ]
  },
  {
   "cell_type": "code",
   "execution_count": 11,
   "metadata": {},
   "outputs": [],
   "source": [
    "#Create a Dataframe out of it?\n",
    "df=pd.DataFrame(predicted)\n",
    "df.rename(columns={\n",
    "          0 : 'Prediction'}, inplace = True)"
   ]
  },
  {
   "cell_type": "code",
   "execution_count": 12,
   "metadata": {},
   "outputs": [],
   "source": [
    "df['Original']= ytrains\n",
    "\n",
    "#Difference between Original and Predicted\n",
    "\n",
    "df['Wrongly Predicted']= df['Prediction']==df['Original']"
   ]
  },
  {
   "cell_type": "code",
   "execution_count": 13,
   "metadata": {},
   "outputs": [],
   "source": [
    "#Create a dataframe including only wrongly predicted variables?\n",
    "\n",
    "df_FPred=df[df['Wrongly Predicted']== False]"
   ]
  },
  {
   "cell_type": "code",
   "execution_count": 14,
   "metadata": {},
   "outputs": [],
   "source": [
    "df_group = df_FPred.groupby(['Original', 'Prediction'])[['Wrongly Predicted']].count()\n",
    "df1 =df_group.unstack()\n",
    "# df1 is a table "
   ]
  },
  {
   "cell_type": "code",
   "execution_count": 15,
   "metadata": {},
   "outputs": [
    {
     "data": {
      "text/html": [
       "<div>\n",
       "<style scoped>\n",
       "    .dataframe tbody tr th:only-of-type {\n",
       "        vertical-align: middle;\n",
       "    }\n",
       "\n",
       "    .dataframe tbody tr th {\n",
       "        vertical-align: top;\n",
       "    }\n",
       "\n",
       "    .dataframe thead th {\n",
       "        text-align: right;\n",
       "    }\n",
       "</style>\n",
       "<table border=\"1\" class=\"dataframe\">\n",
       "  <thead>\n",
       "    <tr style=\"text-align: right;\">\n",
       "      <th></th>\n",
       "      <th>Wrongly Predicted</th>\n",
       "    </tr>\n",
       "  </thead>\n",
       "  <tbody>\n",
       "    <tr>\n",
       "      <th>0</th>\n",
       "      <td>64</td>\n",
       "    </tr>\n",
       "    <tr>\n",
       "      <th>1</th>\n",
       "      <td>110</td>\n",
       "    </tr>\n",
       "    <tr>\n",
       "      <th>2</th>\n",
       "      <td>161</td>\n",
       "    </tr>\n",
       "    <tr>\n",
       "      <th>3</th>\n",
       "      <td>190</td>\n",
       "    </tr>\n",
       "    <tr>\n",
       "      <th>4</th>\n",
       "      <td>130</td>\n",
       "    </tr>\n",
       "    <tr>\n",
       "      <th>5</th>\n",
       "      <td>256</td>\n",
       "    </tr>\n",
       "    <tr>\n",
       "      <th>6</th>\n",
       "      <td>91</td>\n",
       "    </tr>\n",
       "    <tr>\n",
       "      <th>7</th>\n",
       "      <td>116</td>\n",
       "    </tr>\n",
       "    <tr>\n",
       "      <th>8</th>\n",
       "      <td>232</td>\n",
       "    </tr>\n",
       "    <tr>\n",
       "      <th>9</th>\n",
       "      <td>218</td>\n",
       "    </tr>\n",
       "  </tbody>\n",
       "</table>\n",
       "</div>"
      ],
      "text/plain": [
       "   Wrongly Predicted\n",
       "0                 64\n",
       "1                110\n",
       "2                161\n",
       "3                190\n",
       "4                130\n",
       "5                256\n",
       "6                 91\n",
       "7                116\n",
       "8                232\n",
       "9                218"
      ]
     },
     "execution_count": 15,
     "metadata": {},
     "output_type": "execute_result"
    }
   ],
   "source": [
    "df_group1=df_FPred.groupby(['Original'])[['Wrongly Predicted']].count()\n",
    "dftest = df_group1.reset_index(drop=True)\n",
    "dftest"
   ]
  },
  {
   "cell_type": "code",
   "execution_count": 16,
   "metadata": {},
   "outputs": [
    {
     "data": {
      "text/plain": [
       "(10, 10)"
      ]
     },
     "execution_count": 16,
     "metadata": {},
     "output_type": "execute_result"
    }
   ],
   "source": [
    "b = np.round((df1.values/dftest.values *100),1)\n",
    "df1.values.shape"
   ]
  },
  {
   "cell_type": "markdown",
   "metadata": {},
   "source": [
    "## In % ?"
   ]
  },
  {
   "cell_type": "code",
   "execution_count": 19,
   "metadata": {},
   "outputs": [
    {
     "data": {
      "text/html": [
       "<div>\n",
       "<style scoped>\n",
       "    .dataframe tbody tr th:only-of-type {\n",
       "        vertical-align: middle;\n",
       "    }\n",
       "\n",
       "    .dataframe tbody tr th {\n",
       "        vertical-align: top;\n",
       "    }\n",
       "\n",
       "    .dataframe thead th {\n",
       "        text-align: right;\n",
       "    }\n",
       "</style>\n",
       "<table border=\"1\" class=\"dataframe\">\n",
       "  <thead>\n",
       "    <tr style=\"text-align: right;\">\n",
       "      <th></th>\n",
       "      <th>0</th>\n",
       "      <th>1</th>\n",
       "      <th>2</th>\n",
       "      <th>3</th>\n",
       "      <th>4</th>\n",
       "      <th>5</th>\n",
       "      <th>6</th>\n",
       "      <th>7</th>\n",
       "      <th>8</th>\n",
       "      <th>9</th>\n",
       "    </tr>\n",
       "  </thead>\n",
       "  <tbody>\n",
       "    <tr>\n",
       "      <th>0</th>\n",
       "      <td>NaN</td>\n",
       "      <td>NaN</td>\n",
       "      <td>17.2</td>\n",
       "      <td>9.4</td>\n",
       "      <td>6.2</td>\n",
       "      <td>10.9</td>\n",
       "      <td>10.9</td>\n",
       "      <td>3.1</td>\n",
       "      <td>32.8</td>\n",
       "      <td>9.4</td>\n",
       "    </tr>\n",
       "    <tr>\n",
       "      <th>1</th>\n",
       "      <td>0.9</td>\n",
       "      <td>NaN</td>\n",
       "      <td>46.4</td>\n",
       "      <td>11.8</td>\n",
       "      <td>NaN</td>\n",
       "      <td>2.7</td>\n",
       "      <td>0.9</td>\n",
       "      <td>10.0</td>\n",
       "      <td>19.1</td>\n",
       "      <td>8.2</td>\n",
       "    </tr>\n",
       "    <tr>\n",
       "      <th>2</th>\n",
       "      <td>3.1</td>\n",
       "      <td>3.7</td>\n",
       "      <td>NaN</td>\n",
       "      <td>32.3</td>\n",
       "      <td>3.7</td>\n",
       "      <td>5.0</td>\n",
       "      <td>5.6</td>\n",
       "      <td>16.8</td>\n",
       "      <td>23.6</td>\n",
       "      <td>6.2</td>\n",
       "    </tr>\n",
       "    <tr>\n",
       "      <th>3</th>\n",
       "      <td>5.3</td>\n",
       "      <td>1.6</td>\n",
       "      <td>32.1</td>\n",
       "      <td>NaN</td>\n",
       "      <td>0.5</td>\n",
       "      <td>13.7</td>\n",
       "      <td>2.1</td>\n",
       "      <td>14.2</td>\n",
       "      <td>14.2</td>\n",
       "      <td>16.3</td>\n",
       "    </tr>\n",
       "    <tr>\n",
       "      <th>4</th>\n",
       "      <td>9.2</td>\n",
       "      <td>3.1</td>\n",
       "      <td>6.9</td>\n",
       "      <td>3.1</td>\n",
       "      <td>NaN</td>\n",
       "      <td>0.8</td>\n",
       "      <td>5.4</td>\n",
       "      <td>6.2</td>\n",
       "      <td>7.7</td>\n",
       "      <td>57.7</td>\n",
       "    </tr>\n",
       "    <tr>\n",
       "      <th>5</th>\n",
       "      <td>5.5</td>\n",
       "      <td>1.2</td>\n",
       "      <td>6.6</td>\n",
       "      <td>50.8</td>\n",
       "      <td>2.0</td>\n",
       "      <td>NaN</td>\n",
       "      <td>6.6</td>\n",
       "      <td>2.7</td>\n",
       "      <td>12.5</td>\n",
       "      <td>12.1</td>\n",
       "    </tr>\n",
       "    <tr>\n",
       "      <th>6</th>\n",
       "      <td>24.2</td>\n",
       "      <td>4.4</td>\n",
       "      <td>12.1</td>\n",
       "      <td>1.1</td>\n",
       "      <td>11.0</td>\n",
       "      <td>20.9</td>\n",
       "      <td>NaN</td>\n",
       "      <td>NaN</td>\n",
       "      <td>25.3</td>\n",
       "      <td>1.1</td>\n",
       "    </tr>\n",
       "    <tr>\n",
       "      <th>7</th>\n",
       "      <td>2.6</td>\n",
       "      <td>7.8</td>\n",
       "      <td>26.7</td>\n",
       "      <td>15.5</td>\n",
       "      <td>11.2</td>\n",
       "      <td>2.6</td>\n",
       "      <td>0.9</td>\n",
       "      <td>NaN</td>\n",
       "      <td>3.4</td>\n",
       "      <td>29.3</td>\n",
       "    </tr>\n",
       "    <tr>\n",
       "      <th>8</th>\n",
       "      <td>9.5</td>\n",
       "      <td>6.0</td>\n",
       "      <td>17.2</td>\n",
       "      <td>33.6</td>\n",
       "      <td>6.0</td>\n",
       "      <td>8.6</td>\n",
       "      <td>3.9</td>\n",
       "      <td>2.6</td>\n",
       "      <td>NaN</td>\n",
       "      <td>12.5</td>\n",
       "    </tr>\n",
       "    <tr>\n",
       "      <th>9</th>\n",
       "      <td>7.3</td>\n",
       "      <td>1.4</td>\n",
       "      <td>5.0</td>\n",
       "      <td>19.7</td>\n",
       "      <td>14.2</td>\n",
       "      <td>7.8</td>\n",
       "      <td>0.5</td>\n",
       "      <td>34.9</td>\n",
       "      <td>9.2</td>\n",
       "      <td>NaN</td>\n",
       "    </tr>\n",
       "  </tbody>\n",
       "</table>\n",
       "</div>"
      ],
      "text/plain": [
       "      0    1     2     3     4     5     6     7     8     9\n",
       "0   NaN  NaN  17.2   9.4   6.2  10.9  10.9   3.1  32.8   9.4\n",
       "1   0.9  NaN  46.4  11.8   NaN   2.7   0.9  10.0  19.1   8.2\n",
       "2   3.1  3.7   NaN  32.3   3.7   5.0   5.6  16.8  23.6   6.2\n",
       "3   5.3  1.6  32.1   NaN   0.5  13.7   2.1  14.2  14.2  16.3\n",
       "4   9.2  3.1   6.9   3.1   NaN   0.8   5.4   6.2   7.7  57.7\n",
       "5   5.5  1.2   6.6  50.8   2.0   NaN   6.6   2.7  12.5  12.1\n",
       "6  24.2  4.4  12.1   1.1  11.0  20.9   NaN   NaN  25.3   1.1\n",
       "7   2.6  7.8  26.7  15.5  11.2   2.6   0.9   NaN   3.4  29.3\n",
       "8   9.5  6.0  17.2  33.6   6.0   8.6   3.9   2.6   NaN  12.5\n",
       "9   7.3  1.4   5.0  19.7  14.2   7.8   0.5  34.9   9.2   NaN"
      ]
     },
     "execution_count": 19,
     "metadata": {},
     "output_type": "execute_result"
    }
   ],
   "source": [
    "df12 = pd.DataFrame(b,index=range(0,10), columns=range(0,10))\n",
    "df12"
   ]
  },
  {
   "cell_type": "markdown",
   "metadata": {},
   "source": [
    "# Using PCA: Does it change the result?"
   ]
  },
  {
   "cell_type": "code",
   "execution_count": 21,
   "metadata": {},
   "outputs": [],
   "source": [
    "m = PCA(n_components=50)"
   ]
  },
  {
   "cell_type": "code",
   "execution_count": 22,
   "metadata": {},
   "outputs": [],
   "source": [
    "x_PCAt =xtrain.reshape(60000,784)"
   ]
  },
  {
   "cell_type": "code",
   "execution_count": 23,
   "metadata": {},
   "outputs": [
    {
     "data": {
      "text/plain": [
       "array([[ 123.93258866, -312.67426202,  -24.51405179, ...,  -86.77816691,\n",
       "          37.76180001,   41.19713789],\n",
       "       [1011.71837587, -294.85703826,  596.33956102, ..., -187.94787825,\n",
       "         102.95908132,  -27.77493889],\n",
       "       [ -51.84960805,  392.17315286, -188.50974947, ...,   44.90004696,\n",
       "        -142.56569418,  -16.83129446],\n",
       "       ...,\n",
       "       [-178.0534496 ,  160.07821108, -257.61308227, ...,    1.22141826,\n",
       "         102.44027335,  172.16952151],\n",
       "       [ 130.60607208,   -5.59193642,  513.85867394, ...,    2.40722602,\n",
       "          17.55470063,  -50.90350487],\n",
       "       [-173.43595244,  -24.71880226,  556.0188939 , ..., -108.08341701,\n",
       "         177.68807873,    8.76450678]])"
      ]
     },
     "execution_count": 23,
     "metadata": {},
     "output_type": "execute_result"
    }
   ],
   "source": [
    "m.fit_transform(x_PCAt)"
   ]
  },
  {
   "cell_type": "code",
   "execution_count": 24,
   "metadata": {},
   "outputs": [],
   "source": [
    "comps =m.components_"
   ]
  },
  {
   "cell_type": "code",
   "execution_count": 38,
   "metadata": {},
   "outputs": [],
   "source": [
    "explained_variance =m.explained_variance_ratio_"
   ]
  },
  {
   "cell_type": "markdown",
   "metadata": {},
   "source": [
    "## What is the explained variance of the model?"
   ]
  },
  {
   "cell_type": "code",
   "execution_count": 37,
   "metadata": {},
   "outputs": [
    {
     "ename": "NameError",
     "evalue": "name 'explained_varience' is not defined",
     "output_type": "error",
     "traceback": [
      "\u001b[0;31m---------------------------------------------------------------------------\u001b[0m",
      "\u001b[0;31mNameError\u001b[0m                                 Traceback (most recent call last)",
      "\u001b[0;32m<ipython-input-37-cc3d70b1d39f>\u001b[0m in \u001b[0;36m<module>\u001b[0;34m\u001b[0m\n\u001b[0;32m----> 1\u001b[0;31m \u001b[0mexplained_varience\u001b[0m\u001b[0;34m\u001b[0m\u001b[0;34m\u001b[0m\u001b[0m\n\u001b[0m",
      "\u001b[0;31mNameError\u001b[0m: name 'explained_varience' is not defined"
     ]
    }
   ],
   "source": [
    "explained_varience.sum()"
   ]
  },
  {
   "cell_type": "code",
   "execution_count": null,
   "metadata": {},
   "outputs": [],
   "source": []
  }
 ],
 "metadata": {
  "kernelspec": {
   "display_name": "Python 3",
   "language": "python",
   "name": "python3"
  },
  "language_info": {
   "codemirror_mode": {
    "name": "ipython",
    "version": 3
   },
   "file_extension": ".py",
   "mimetype": "text/x-python",
   "name": "python",
   "nbconvert_exporter": "python",
   "pygments_lexer": "ipython3",
   "version": "3.6.8"
  }
 },
 "nbformat": 4,
 "nbformat_minor": 2
}
